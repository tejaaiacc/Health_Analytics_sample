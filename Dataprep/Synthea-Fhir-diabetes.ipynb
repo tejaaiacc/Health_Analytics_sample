{
 "cells": [
  {
   "cell_type": "markdown",
   "id": "typical-pasta",
   "metadata": {},
   "source": [
    "# Install dependencies\n",
    "- commented out as libraries already installed"
   ]
  },
  {
   "cell_type": "code",
   "execution_count": null,
   "id": "accessory-attention",
   "metadata": {},
   "outputs": [],
   "source": [
    "#!conda install -y nb_conda\n",
    "#!conda install -y -c conda-forge census\n",
    "#!pip install us"
   ]
  },
  {
   "cell_type": "markdown",
   "id": "according-round",
   "metadata": {},
   "source": [
    "# Import libraries"
   ]
  },
  {
   "cell_type": "code",
   "execution_count": null,
   "id": "automotive-denial",
   "metadata": {},
   "outputs": [],
   "source": [
    "import pandas as pd\n",
    "import numpy as np"
   ]
  },
  {
   "cell_type": "markdown",
   "id": "everyday-england",
   "metadata": {},
   "source": [
    "# Read Diabetes observation table"
   ]
  },
  {
   "cell_type": "code",
   "execution_count": null,
   "id": "reduced-tribute",
   "metadata": {},
   "outputs": [],
   "source": [
    "df_obs = pd.read_csv('synthea_diabetes_obs.csv')\n",
    "df_obs"
   ]
  },
  {
   "cell_type": "markdown",
   "id": "precious-ancient",
   "metadata": {},
   "source": [
    "# Read diabetes population"
   ]
  },
  {
   "cell_type": "code",
   "execution_count": null,
   "id": "dried-brake",
   "metadata": {},
   "outputs": [],
   "source": [
    "df_pop = pd.read_csv('pop_a1c.csv')\n",
    "df_pop"
   ]
  },
  {
   "cell_type": "markdown",
   "id": "faced-trance",
   "metadata": {},
   "source": [
    "# Read denominator/demographics for all patients"
   ]
  },
  {
   "cell_type": "code",
   "execution_count": null,
   "id": "removable-concrete",
   "metadata": {},
   "outputs": [],
   "source": [
    "df_patients = pd.read_csv('synthea_allpatients.csv',dtype = {'zipcode': str},parse_dates=['birthDate'])\n",
    "print(df_patients.dtypes)\n",
    "df_patients"
   ]
  },
  {
   "cell_type": "markdown",
   "id": "incident-foster",
   "metadata": {},
   "source": [
    "# Use only latest observation for Hemoglobin A1c measure"
   ]
  },
  {
   "cell_type": "code",
   "execution_count": null,
   "id": "ordered-picture",
   "metadata": {},
   "outputs": [],
   "source": [
    "latest_obs = df_obs[df_obs['latest'] == 1]\n",
    "latest_obs"
   ]
  },
  {
   "cell_type": "markdown",
   "id": "convinced-stupid",
   "metadata": {},
   "source": [
    "# Create numerator (patients with latest A1c observation >= 9)"
   ]
  },
  {
   "cell_type": "code",
   "execution_count": null,
   "id": "offensive-diana",
   "metadata": {},
   "outputs": [],
   "source": [
    "numerator_obs = latest_obs.loc[latest_obs['obs_value'] >= 9.,'patient_id']\n",
    "numerator_obs"
   ]
  },
  {
   "cell_type": "code",
   "execution_count": null,
   "id": "vocal-budapest",
   "metadata": {},
   "outputs": [],
   "source": [
    "numerator = df_pop[df_pop['patient_id'].isin(numerator_obs.values)]\n",
    "numerator = numerator.drop_duplicates(subset=['patient_id'])\n",
    "numerator"
   ]
  },
  {
   "cell_type": "markdown",
   "id": "invisible-journey",
   "metadata": {},
   "source": [
    "# Create denominator (all patients with diabetes, 18-75 in age)"
   ]
  },
  {
   "cell_type": "code",
   "execution_count": null,
   "id": "comic-texas",
   "metadata": {},
   "outputs": [],
   "source": [
    "denominator = df_pop[df_pop['patient_id'].isin(latest_obs['patient_id'].unique())]\n",
    "denominator = denominator.drop_duplicates(subset=['patient_id'])\n",
    "denominator"
   ]
  },
  {
   "cell_type": "markdown",
   "id": "cloudy-gibson",
   "metadata": {},
   "source": [
    "# Create target \n",
    "* 1 = uncontrolled diabates or A1c >= 9\n",
    "* 0 = controlled diabetes"
   ]
  },
  {
   "cell_type": "code",
   "execution_count": null,
   "id": "planned-dialogue",
   "metadata": {},
   "outputs": [],
   "source": [
    "df = denominator.copy()\n",
    "df"
   ]
  },
  {
   "cell_type": "code",
   "execution_count": null,
   "id": "minute-success",
   "metadata": {},
   "outputs": [],
   "source": [
    "df['target'] = 0\n",
    "df.loc[df['patient_id'].isin(numerator['patient_id'].values),'target'] = 1\n",
    "df"
   ]
  },
  {
   "cell_type": "markdown",
   "id": "respected-investigator",
   "metadata": {},
   "source": [
    "# Merge patient information and save for visualization"
   ]
  },
  {
   "cell_type": "code",
   "execution_count": null,
   "id": "confidential-tennis",
   "metadata": {},
   "outputs": [],
   "source": [
    "df = pd.merge(df,df_patients,left_on='patient_id',right_on='id',how='left')"
   ]
  },
  {
   "cell_type": "code",
   "execution_count": null,
   "id": "consecutive-stopping",
   "metadata": {},
   "outputs": [],
   "source": [
    "df.to_csv('tmp.datastudio.a1c.csv',index=False)"
   ]
  },
  {
   "cell_type": "markdown",
   "id": "returning-dinner",
   "metadata": {},
   "source": [
    "# Create census data/Social determinants of Health table \n",
    "- Example: poverty rate\n",
    "- see https://api.census.gov/data/2019/acs/acs5/variables.html for variables\n",
    "  * B01003_001E - total population\n",
    "  * B17015_001E - total - poverty status\n",
    "  * B17015_002E - total income in past 12 months below poverty level"
   ]
  },
  {
   "cell_type": "code",
   "execution_count": null,
   "id": "bearing-solution",
   "metadata": {},
   "outputs": [],
   "source": [
    "from census import Census\n",
    "from us import states\n",
    "\n",
    "API_KEY = 'API_KEY'  # replace with own API_KEY; see census API website to obtain API key \n",
    "c = Census(API_KEY)"
   ]
  },
  {
   "cell_type": "code",
   "execution_count": null,
   "id": "closed-telling",
   "metadata": {},
   "outputs": [],
   "source": [
    "data = c.acs5.get(('NAME','B01003_001E','B17015_001E','B17015_002E'), {'for': 'zip code tabulation area:*', 'in' : 'state:25'})\n",
    "census_df = pd.DataFrame.from_dict(data)\n",
    "census_df"
   ]
  },
  {
   "cell_type": "code",
   "execution_count": null,
   "id": "derived-killer",
   "metadata": {},
   "outputs": [],
   "source": [
    "# Rename columns"
   ]
  },
  {
   "cell_type": "code",
   "execution_count": null,
   "id": "smaller-consolidation",
   "metadata": {},
   "outputs": [],
   "source": [
    "census_df.columns = ['NAME','Population','Poulation Below Poverty Line','Population Below Poverty Line past 12 months','state','Zip Code']\n",
    "census_df"
   ]
  },
  {
   "cell_type": "markdown",
   "id": "advance-tourism",
   "metadata": {},
   "source": [
    "# Create Poverty precentage"
   ]
  },
  {
   "cell_type": "code",
   "execution_count": null,
   "id": "alive-newfoundland",
   "metadata": {},
   "outputs": [],
   "source": [
    "census_df['Poverty Percentage'] = census_df['Poulation Below Poverty Line']/census_df['Population']\n",
    "census_df"
   ]
  },
  {
   "cell_type": "markdown",
   "id": "artificial-dollar",
   "metadata": {},
   "source": [
    "# Select columns"
   ]
  },
  {
   "cell_type": "code",
   "execution_count": null,
   "id": "opponent-palmer",
   "metadata": {
    "scrolled": true
   },
   "outputs": [],
   "source": [
    "census_df = census_df[['Zip Code','Population', 'Poulation Below Poverty Line',\n",
    "       'Population Below Poverty Line past 12 months','Poverty Percentage']]\n",
    "census_df"
   ]
  },
  {
   "cell_type": "markdown",
   "id": "documented-mitchell",
   "metadata": {},
   "source": [
    "# Save census/sdoh table"
   ]
  },
  {
   "cell_type": "code",
   "execution_count": null,
   "id": "threatened-millennium",
   "metadata": {},
   "outputs": [],
   "source": [
    "census_df.to_csv('census_poverty.csv',header=True,index=False)"
   ]
  }
 ],
 "metadata": {
  "kernelspec": {
   "display_name": "Python 3",
   "language": "python",
   "name": "python3"
  },
  "language_info": {
   "codemirror_mode": {
    "name": "ipython",
    "version": 3
   },
   "file_extension": ".py",
   "mimetype": "text/x-python",
   "name": "python",
   "nbconvert_exporter": "python",
   "pygments_lexer": "ipython3",
   "version": "3.7.9"
  }
 },
 "nbformat": 4,
 "nbformat_minor": 5
}
